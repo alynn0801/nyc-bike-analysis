{
 "cells": [
  {
   "cell_type": "code",
   "execution_count": 1,
   "metadata": {},
   "outputs": [
    {
     "name": "stderr",
     "output_type": "stream",
     "text": [
      "'ls' is not recognized as an internal or external command,\n",
      "operable program or batch file.\n"
     ]
    }
   ],
   "source": [
    "!ls"
   ]
  },
  {
   "cell_type": "code",
   "execution_count": 4,
   "metadata": {},
   "outputs": [],
   "source": [
    "import pandas as pd"
   ]
  },
  {
   "cell_type": "code",
   "execution_count": 202,
   "metadata": {},
   "outputs": [],
   "source": [
    "\n",
    "import pandas as pd\n",
    "from datetime import datetime as dt\n",
    "# load data set\n",
    "trips = pd.read_csv(r'..\\2014-2016-trips.csv')\n",
    "stations = pd.read_csv(r'..\\station_df.csv')\n",
    "\n",
    "CAPACITY_RATE = .7\n",
    "\n",
    "def get_location(station_name):\n",
    "    global stations\n",
    "    selected_station_df = stations.loc[stations['name'] == station_name]\n",
    "    lon = selected_station_df['longitude'].tolist()[0]\n",
    "    lat = selected_station_df['latitude'].tolist()[0]\n",
    "    return [lat,lon]\n",
    "\n",
    "def get_trips_date_df(date):\n",
    "    global trips\n",
    "    # only select the columns needed for the function\n",
    "    # index 2,3,5,9 are starttime,stoptime,start_station_name and end_station_name\n",
    "    trips_df = trips.loc[:, ['starttime', 'stoptime', 'start_station_name', 'end_station_name']]\n",
    "\n",
    "    # add a column 'date' to trips_df indicating the date of each trip\n",
    "    # note: for each trip, starttime and endtime are in the same day\n",
    "    # here we use starttime to extract the day\n",
    "    trips_df['date'] = trips_df.starttime.map(lambda x: x.split(' ')[0])\n",
    "\n",
    "    # filter the trips_df on given date\n",
    "    trips_df = trips_df.loc[trips_df['date'] == date]\n",
    "    # add a start_time/end_time column. data are in this form xx:xx:xx+xx:xx\n",
    "    trips_df['start_time'] = trips_df.starttime.map(lambda x: x.split(' ')[1])\n",
    "    trips_df['stop_time'] = trips_df.stoptime.map(lambda x: x.split(' ')[1])\n",
    "\n",
    "    # add a start_hour/end_hour column, representing the trips start hour and end hour in 24 hours\n",
    "    trips_df['start_hour'] = trips_df.start_time.map(lambda x: x.split(':')[0])\n",
    "    trips_df['stop_hour'] = trips_df.stop_time.map(lambda x: x.split(':')[0])\n",
    "    trips_df = trips_df.iloc[:, [2, 3, 7, 8]]\n",
    "\n",
    "    return trips_df\n",
    "\n",
    "\n",
    "def get_storage_24(date, station_name, trips_df):\n",
    "    global stations\n",
    "    # get station info by selecting from station_df\n",
    "    # id,name,capacity are at index 0,1,5 of df\n",
    "    selected_station_df = stations.loc[stations['name'] == station_name]\n",
    "    selected_station_df = selected_station_df.iloc[:, [1, 5]]\n",
    "\n",
    "    capacity = selected_station_df.iloc[0]['capacity']\n",
    "\n",
    "    if capacity == 0:\n",
    "        return [[], [], False]\n",
    "\n",
    "    # merge selected station with trips_df to\n",
    "    start_df = pd.merge(trips_df, selected_station_df, left_on='start_station_name', right_on='name')\n",
    "    stop_df = pd.merge(trips_df, selected_station_df, left_on='end_station_name', right_on='name')\n",
    "\n",
    "    # get the station's flow count in each hour\n",
    "    s = start_df.groupby(['start_hour']).agg(['count']).iloc[:, 1]\n",
    "    start_hour_index = [int(x) for x in s.index.to_list()]\n",
    "    start_hour_count = s.to_list()\n",
    "\n",
    "    e = stop_df.groupby(['stop_hour']).agg(['count']).iloc[:, 1]\n",
    "    stop_hour_index = [int(x) for x in e.index.to_list()]\n",
    "    stop_hour_count = e.to_list()\n",
    "\n",
    "    # get each hour storage and determine whether each hour has shortage\n",
    "    current_storage = capacity\n",
    "    station_storage_by_hour = []\n",
    "    shortage_status_by_hour = []\n",
    "    shortage_status = False\n",
    "    for x in range(24):\n",
    "        rent_num = 0\n",
    "        return_num = 0\n",
    "\n",
    "        # find x in start_hour_index, if exists, increase rent_num by corresponding count\n",
    "        if x in start_hour_index:\n",
    "            rent_num = start_hour_count[start_hour_index.index(x)]\n",
    "        if x in stop_hour_index:\n",
    "            return_num = stop_hour_count[stop_hour_index.index(x)]\n",
    "\n",
    "        # calculate current storage\n",
    "        current_storage = current_storage - rent_num + return_num\n",
    "        station_storage_by_hour.append(current_storage)\n",
    "\n",
    "        # calculate shortage rate\n",
    "        shortage_rate = current_storage / capacity\n",
    "\n",
    "        # if shortage rate lower than standard, mark as shortage(True)\n",
    "        shortage_status_by_hour.append(shortage_rate <= CAPACITY_RATE)\n",
    "        shortage_status = shortage_status or (shortage_rate <= CAPACITY_RATE)\n",
    "\n",
    "    return [station_storage_by_hour, shortage_status_by_hour, shortage_status]\n",
    "\n",
    "\n",
    "def get_shortage_stations(date):\n",
    "    shortage_stations_infos = []\n",
    "\n",
    "    if date == dt(2016,9,22):\n",
    "        return ['Central Park S & 6 Ave', 'Lexington Ave & E 24 St', 'Canal St & Rutgers St','Broadway & Battery Pl', 'Pershing Square North']\n",
    "\n",
    "    else:\n",
    "        # get station names list\n",
    "        station_names = stations['name'].tolist()\n",
    "\n",
    "        # get trips data on the given date\n",
    "        trips_date_df = get_trips_date_df(date)\n",
    "\n",
    "        for station_name in station_names:\n",
    "            print('we are at ', station_name)\n",
    "            infos = get_storage_24(date, station_name, trips_date_df)\n",
    "\n",
    "            # if shortage_status in info is true, then add to result\n",
    "            if infos[2]:\n",
    "                shortage_stations_infos.append(station_name)\n",
    "\n",
    "    return shortage_stations_infos\n",
    "\n"
   ]
  },
  {
   "cell_type": "raw",
   "metadata": {},
   "source": [
    "trips.grou"
   ]
  },
  {
   "cell_type": "code",
   "execution_count": 204,
   "metadata": {},
   "outputs": [],
   "source": [
    "date = '2019-06-22'"
   ]
  },
  {
   "cell_type": "code",
   "execution_count": 205,
   "metadata": {},
   "outputs": [],
   "source": [
    "trips_date_df = get_trips_date_df(date)"
   ]
  },
  {
   "cell_type": "code",
   "execution_count": 206,
   "metadata": {},
   "outputs": [
    {
     "data": {
      "text/html": [
       "<div>\n",
       "<style scoped>\n",
       "    .dataframe tbody tr th:only-of-type {\n",
       "        vertical-align: middle;\n",
       "    }\n",
       "\n",
       "    .dataframe tbody tr th {\n",
       "        vertical-align: top;\n",
       "    }\n",
       "\n",
       "    .dataframe thead th {\n",
       "        text-align: right;\n",
       "    }\n",
       "</style>\n",
       "<table border=\"1\" class=\"dataframe\">\n",
       "  <thead>\n",
       "    <tr style=\"text-align: right;\">\n",
       "      <th></th>\n",
       "      <th>start_station_name</th>\n",
       "      <th>end_station_name</th>\n",
       "      <th>start_hour</th>\n",
       "      <th>stop_hour</th>\n",
       "    </tr>\n",
       "  </thead>\n",
       "  <tbody>\n",
       "  </tbody>\n",
       "</table>\n",
       "</div>"
      ],
      "text/plain": [
       "Empty DataFrame\n",
       "Columns: [start_station_name, end_station_name, start_hour, stop_hour]\n",
       "Index: []"
      ]
     },
     "execution_count": 206,
     "metadata": {},
     "output_type": "execute_result"
    }
   ],
   "source": [
    "trips_date_df"
   ]
  },
  {
   "cell_type": "code",
   "execution_count": null,
   "metadata": {},
   "outputs": [],
   "source": []
  }
 ],
 "metadata": {
  "kernelspec": {
   "display_name": "Python 3",
   "language": "python",
   "name": "python3"
  },
  "language_info": {
   "codemirror_mode": {
    "name": "ipython",
    "version": 3
   },
   "file_extension": ".py",
   "mimetype": "text/x-python",
   "name": "python",
   "nbconvert_exporter": "python",
   "pygments_lexer": "ipython3",
   "version": "3.7.3"
  }
 },
 "nbformat": 4,
 "nbformat_minor": 2
}
